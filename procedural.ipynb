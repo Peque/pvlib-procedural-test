{
 "cells": [
  {
   "cell_type": "markdown",
   "metadata": {},
   "source": [
    "# Replicating object-oriented results with procedural"
   ]
  },
  {
   "cell_type": "code",
   "execution_count": 1,
   "metadata": {},
   "outputs": [],
   "source": [
    "import pvlib\n",
    "from pandas import read_csv"
   ]
  },
  {
   "cell_type": "markdown",
   "metadata": {},
   "source": [
    "## Setup"
   ]
  },
  {
   "cell_type": "code",
   "execution_count": 2,
   "metadata": {},
   "outputs": [],
   "source": [
    "latitude = 42.23282\n",
    "longitude = -8.72264\n",
    "altitude = 80\n",
    "surface_tilt = 0.0\n",
    "surface_azimuth = 0.0\n",
    "module = {'A_c': 1.7, 'Adjust': 14.047909, 'BIPV': 'N', 'Bifacial': 0, 'Date': '1/3/2019', 'I_L_ref': 4.798116, 'I_mp_ref': 4.31, 'I_o_ref': 1.366077e-09, 'I_sc_ref': 4.78, 'Length': 1.602, 'N_s': 96, 'PTC': 181.6, 'R_s': 0.793104, 'R_sh_ref': 209.272705, 'STC': 199.984, 'T_NOCT': 42.4, 'Technology': 'Mono-c-Si', 'V_mp_ref': 46.4, 'V_oc_ref': 57.4, 'Version': 'SAM 2018.11.11 r2', 'Width': 1.061, 'a_ref': 2.618532, 'alpha_sc': 0.004254, 'beta_oc': -0.214676, 'gamma_r': -0.476}\n",
    "inverter = {'C0': -4.1e-05, 'C1': -9.1e-05, 'C2': 0.000494, 'C3': -0.013171, 'CEC_Type': 'Utility Interactive', 'Idcmax': 6.489715, 'Mppt_high': 50.0, 'Mppt_low': 30.0, 'Paco': 250.0, 'Pdco': 259.588593, 'Pnt': 0.075, 'Pso': 2.089607, 'Vac': '208', 'Vdcmax': 50.0, 'Vdco': 40.0}\n",
    "modules_per_string = 1\n",
    "tmy = read_csv(\"tmy.csv\", parse_dates=[\"Timestamp\"]).set_index(\"Timestamp\")"
   ]
  },
  {
   "cell_type": "markdown",
   "metadata": {},
   "source": [
    "## Object oriented"
   ]
  },
  {
   "cell_type": "code",
   "execution_count": 3,
   "metadata": {},
   "outputs": [
    {
     "data": {
      "text/plain": [
       "271015.87273861945"
      ]
     },
     "execution_count": 3,
     "metadata": {},
     "output_type": "execute_result"
    }
   ],
   "source": [
    "system = pvlib.pvsystem.PVSystem(\n",
    "    surface_tilt=surface_tilt,\n",
    "    surface_azimuth=surface_azimuth,\n",
    "    module_parameters=module,\n",
    "    inverter_parameters=inverter,\n",
    "    modules_per_string=modules_per_string,\n",
    "    module_type=\"glass_glass\",\n",
    "    racking_model=\"open_rack\",\n",
    ")\n",
    "chain = pvlib.modelchain.ModelChain(\n",
    "    system=system,\n",
    "    location=pvlib.location.Location(\n",
    "        latitude=latitude,\n",
    "        longitude=longitude,\n",
    "        altitude=altitude,\n",
    "    ),\n",
    "    aoi_model=\"physical\",\n",
    "    spectral_model=\"no_loss\",\n",
    ")\n",
    "results = chain.run_model(weather=tmy)\n",
    "results.ac.sum()"
   ]
  },
  {
   "cell_type": "markdown",
   "metadata": {},
   "source": [
    "## Procedural"
   ]
  },
  {
   "cell_type": "code",
   "execution_count": 4,
   "metadata": {},
   "outputs": [
    {
     "data": {
      "text/plain": [
       "271018.0584959601"
      ]
     },
     "execution_count": 4,
     "metadata": {},
     "output_type": "execute_result"
    }
   ],
   "source": [
    "def no_spectral_loss_effective_irradiance(poa_direct, poa_diffuse, airmass_absolute, aoi, module):\n",
    "    F1 = 1.0\n",
    "    F2 = pvlib.iam.physical(aoi)\n",
    "    FD = 1.0\n",
    "    Ee = F1 * (poa_direct * F2 + FD * poa_diffuse)\n",
    "    return Ee\n",
    "\n",
    "index = tmy.index\n",
    "solpos = pvlib.solarposition.get_solarposition(\n",
    "    index,\n",
    "    latitude,\n",
    "    longitude,\n",
    "    altitude,\n",
    ")\n",
    "dni_extra = pvlib.irradiance.get_extra_radiation(index)\n",
    "pressure = pvlib.atmosphere.alt2pres(altitude)\n",
    "relative_airmass = pvlib.atmosphere.get_relative_airmass(\n",
    "    solpos['apparent_zenith'],\n",
    ")\n",
    "absolute_airmass = pvlib.atmosphere.get_absolute_airmass(\n",
    "    relative_airmass,\n",
    "    pressure,\n",
    ")\n",
    "aoi = pvlib.irradiance.aoi(\n",
    "    surface_tilt,\n",
    "    surface_azimuth,\n",
    "    solpos[\"apparent_zenith\"],\n",
    "    solpos[\"azimuth\"],\n",
    ")\n",
    "total_irradiance = pvlib.irradiance.get_total_irradiance(\n",
    "    surface_tilt,\n",
    "    surface_azimuth,\n",
    "    solpos['apparent_zenith'],\n",
    "    solpos['azimuth'],\n",
    "    tmy['dni'],\n",
    "    tmy['ghi'],\n",
    "    tmy['dhi'],\n",
    "    dni_extra=dni_extra,\n",
    "    model='haydavies',\n",
    ")\n",
    "cell_temperature = pvlib.temperature.sapm_cell(\n",
    "    total_irradiance['poa_global'],\n",
    "    tmy[\"temp_air\"],\n",
    "    tmy[\"wind_speed\"],\n",
    "    **pvlib.temperature.TEMPERATURE_MODEL_PARAMETERS['sapm']['open_rack_glass_glass'],\n",
    ")\n",
    "effective_irradiance = no_spectral_loss_effective_irradiance(\n",
    "    total_irradiance['poa_direct'],\n",
    "    total_irradiance['poa_diffuse'],\n",
    "    absolute_airmass,\n",
    "    aoi,module,\n",
    ")\n",
    "cec = pvlib.pvsystem.calcparams_cec(\n",
    "    effective_irradiance,\n",
    "    cell_temperature,\n",
    "    alpha_sc=module[\"alpha_sc\"],\n",
    "    a_ref=module[\"a_ref\"],\n",
    "    I_L_ref=module[\"I_L_ref\"],\n",
    "    I_o_ref=module[\"I_o_ref\"],\n",
    "    R_sh_ref=module[\"R_sh_ref\"],\n",
    "    R_s=module[\"R_s\"],\n",
    "    Adjust=module[\"Adjust\"],\n",
    ")\n",
    "dc = pvlib.pvsystem.singlediode(*cec)\n",
    "ac = pvlib.inverter.sandia(dc['v_mp'], dc['p_mp'], inverter)\n",
    "ac.sum()"
   ]
  }
 ],
 "metadata": {
  "kernelspec": {
   "display_name": "Python 3",
   "language": "python",
   "name": "python3"
  },
  "language_info": {
   "codemirror_mode": {
    "name": "ipython",
    "version": 3
   },
   "file_extension": ".py",
   "mimetype": "text/x-python",
   "name": "python",
   "nbconvert_exporter": "python",
   "pygments_lexer": "ipython3",
   "version": "3.8.3"
  }
 },
 "nbformat": 4,
 "nbformat_minor": 4
}
